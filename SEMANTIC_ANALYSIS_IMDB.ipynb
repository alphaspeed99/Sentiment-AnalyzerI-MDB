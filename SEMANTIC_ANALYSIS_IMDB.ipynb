{
  "nbformat": 4,
  "nbformat_minor": 0,
  "metadata": {
    "colab": {
      "provenance": []
    },
    "kernelspec": {
      "name": "python3",
      "display_name": "Python 3"
    },
    "language_info": {
      "name": "python"
    }
  },
  "cells": [
    {
      "cell_type": "code",
      "execution_count": 22,
      "metadata": {
        "colab": {
          "base_uri": "https://localhost:8080/"
        },
        "id": "adZRPIyIWazi",
        "outputId": "7fb6f440-ad3f-48ee-bd8a-0e0c881d2b59"
      },
      "outputs": [
        {
          "output_type": "stream",
          "name": "stderr",
          "text": [
            "[nltk_data] Downloading package stopwords to /root/nltk_data...\n",
            "[nltk_data]   Package stopwords is already up-to-date!\n",
            "[nltk_data] Downloading package punkt to /root/nltk_data...\n",
            "[nltk_data]   Package punkt is already up-to-date!\n",
            "[nltk_data] Downloading package averaged_perceptron_tagger to\n",
            "[nltk_data]     /root/nltk_data...\n",
            "[nltk_data]   Package averaged_perceptron_tagger is already up-to-\n",
            "[nltk_data]       date!\n"
          ]
        }
      ],
      "source": [
        "import pandas as pd\n",
        "import string\n",
        "import nltk\n",
        "nltk.download('stopwords')\n",
        "from nltk.corpus import stopwords\n",
        "from nltk.tokenize import word_tokenize\n",
        "import re\n",
        "import random\n",
        "nltk.download('punkt')\n",
        "nltk.download('averaged_perceptron_tagger')\n",
        "from sklearn.feature_extraction.text import CountVectorizer\n",
        "from sklearn.model_selection import GridSearchCV\n",
        "from sklearn.ensemble import RandomForestClassifier\n",
        "from nltk.classify.scikitlearn import SklearnClassifier\n",
        "from sklearn.naive_bayes import MultinomialNB"
      ]
    },
    {
      "cell_type": "code",
      "source": [
        "# load the CSV file with the positive reviews\n",
        "files_pos = pd.read_csv('/content/IMDB.csv', error_bad_lines=False, engine=\"python\")\n",
        "files_pos = files_pos[0:1000]"
      ],
      "metadata": {
        "colab": {
          "base_uri": "https://localhost:8080/"
        },
        "id": "3tZTw9ZzWyUZ",
        "outputId": "4643920c-ba79-47c8-f686-ff99fcabcbb9"
      },
      "execution_count": 23,
      "outputs": [
        {
          "output_type": "stream",
          "name": "stderr",
          "text": [
            "<ipython-input-23-2ff6d6f74da3>:2: FutureWarning: The error_bad_lines argument has been deprecated and will be removed in a future version. Use on_bad_lines in the future.\n",
            "\n",
            "\n",
            "  files_pos = pd.read_csv('/content/IMDB.csv', error_bad_lines=False, engine=\"python\")\n",
            "Skipping line 46648: unexpected end of data\n"
          ]
        }
      ]
    },
    {
      "cell_type": "code",
      "source": [
        "# load the CSV file with the negative reviews\n",
        "files_neg = pd.read_csv('/content/IMDB.csv', error_bad_lines=False, engine=\"python\")\n",
        "files_neg = files_neg[1000:2000]"
      ],
      "metadata": {
        "colab": {
          "base_uri": "https://localhost:8080/"
        },
        "id": "TxEM6xh5d4Kh",
        "outputId": "9038f9fe-1cde-47e7-9e1c-72a7501c527d"
      },
      "execution_count": 24,
      "outputs": [
        {
          "output_type": "stream",
          "name": "stderr",
          "text": [
            "<ipython-input-24-8cc07f88175d>:2: FutureWarning: The error_bad_lines argument has been deprecated and will be removed in a future version. Use on_bad_lines in the future.\n",
            "\n",
            "\n",
            "  files_neg = pd.read_csv('/content/IMDB.csv', error_bad_lines=False, engine=\"python\")\n"
          ]
        }
      ]
    },
    {
      "cell_type": "code",
      "source": [
        "# create a list of stopwords\n",
        "stop_words = set(stopwords.words(\"english\"))\n",
        "\n",
        "# create a list of allowed word types (in this case, adjectives)\n",
        "allowed_word_types = [\"J\"]\n",
        "\n",
        "documents = []\n",
        "all_words = []\n",
        "\n",
        "# loop over each positive review\n",
        "for index, row in files_pos.iterrows():\n",
        "    # extract the review text from the CSV file\n",
        "    review_text = row['review']\n",
        "\n",
        "    # remove punctuation and convert to lowercase\n",
        "    cleaned = re.sub(r'[^\\w\\s]', '', review_text.lower())\n",
        "\n",
        "    # create a list of tuples where the first element of each tuple is a review and the second element is the label\n",
        "    documents.append((cleaned, \"positive\"))\n",
        "\n",
        "    # tokenize the text\n",
        "    tokenized = word_tokenize(cleaned)\n",
        "\n",
        "    # remove stopwords\n",
        "    stopped = [w for w in tokenized if not w in stop_words]\n",
        "\n",
        "    # parts of speech tagging for each word\n",
        "    positive = nltk.pos_tag(stopped)\n",
        "\n",
        "    # make a list of all adjectives identified by the allowed word types list above\n",
        "    for w in positive:\n",
        "        if w[1][0] in allowed_word_types:\n",
        "            all_words.append(w[0].lower())\n",
        "\n"
      ],
      "metadata": {
        "id": "gkuQBrZ9eIR_"
      },
      "execution_count": 25,
      "outputs": []
    },
    {
      "cell_type": "code",
      "source": [],
      "metadata": {
        "id": "zBK4NXhLfR-3"
      },
      "execution_count": null,
      "outputs": []
    },
    {
      "cell_type": "code",
      "source": [
        "# loop over each negative review\n",
        "for index, row in files_neg.iterrows():\n",
        "    # extract the review text from the CSV file\n",
        "    review_text = row['review']\n",
        "\n",
        "    # remove punctuation and convert to lowercase\n",
        "    cleaned = re.sub(r'[^\\w\\s]', '', review_text.lower())\n",
        "\n",
        "    # create a list of tuples where the first element of each tuple is a review and the second element is the label\n",
        "    documents.append((cleaned, \"negative\"))\n",
        "\n",
        "    # tokenize the text\n",
        "    tokenized = word_tokenize(cleaned)\n",
        "\n",
        "    # remove stopwords\n",
        "    stopped = [w for w in tokenized if not w in stop_words]\n",
        "\n",
        "    # parts of speech tagging for each word\n",
        "    negative = nltk.pos_tag(stopped)\n",
        "\n",
        "    # make a list of all adjectives identified by the allowed word types list above\n",
        "    for w in negative:\n",
        "        if w[1][0] in allowed_word_types:\n",
        "            all_words.append(w[0].lower())\n"
      ],
      "metadata": {
        "id": "-QY3fLEcfY9l"
      },
      "execution_count": 26,
      "outputs": []
    },
    {
      "cell_type": "code",
      "source": [],
      "metadata": {
        "id": "ptrmrURdfgR9"
      },
      "execution_count": null,
      "outputs": []
    },
    {
      "cell_type": "code",
      "source": [
        "# create a frequency distribution of each adjective\n",
        "all_words = nltk.FreqDist(all_words)\n",
        "\n",
        "# plot the most common adjectives\n",
        "import matplotlib.pyplot as plt\n",
        "all_words.plot(30, cumulative=False)\n",
        "plt.show()"
      ],
      "metadata": {
        "colab": {
          "base_uri": "https://localhost:8080/",
          "height": 495
        },
        "id": "m_WJyD13gRgE",
        "outputId": "85d38d04-f7bb-460a-c0e6-e0ee978a5f43"
      },
      "execution_count": 27,
      "outputs": [
        {
          "output_type": "display_data",
          "data": {
            "text/plain": [
              "<Figure size 640x480 with 1 Axes>"
            ],
            "image/png": "[encoded data removed]"
          },
          "metadata": {}
        }
      ]
    },
    {
      "cell_type": "code",
      "source": [
        "# get the most frequent words\n",
        "word_features = list(all_words.keys())[:1000]\n"
      ],
      "metadata": {
        "id": "LvwmEtd8gUKU"
      },
      "execution_count": 28,
      "outputs": []
    },
    {
      "cell_type": "code",
      "source": [
        "# create a feature set for each document\n",
        "def find_features(document):\n",
        "    words = word_tokenize(document)\n",
        "    features = {}\n",
        "    for w in word_features:\n",
        "        features[w] = (w in words)\n",
        "    return features"
      ],
      "metadata": {
        "id": "YHefRpFOgbSV"
      },
      "execution_count": 29,
      "outputs": []
    },
    {
      "cell_type": "code",
      "source": [
        "\n",
        "# create feature sets for the documents using the find_features function\n",
        "featuresets = [(find_features(rev), category) for (rev, category) in documents]\n",
        "random.shuffle(featuresets)"
      ],
      "metadata": {
        "id": "7XjtvCkJgfUD"
      },
      "execution_count": 30,
      "outputs": []
    },
    {
      "cell_type": "code",
      "source": [
        "# split the feature sets into training and testing sets\n",
        "training_set = featuresets[:800]\n",
        "testing_set = featuresets[800:]"
      ],
      "metadata": {
        "id": "Xm2vWCo3gjdr"
      },
      "execution_count": 31,
      "outputs": []
    },
    {
      "cell_type": "code",
      "source": [
        "# Sklearn\n",
        "from sklearn.feature_extraction.text import CountVectorizer\n",
        "from sklearn.model_selection import GridSearchCV\n",
        "from sklearn.ensemble import RandomForestClassifier\n",
        "from nltk.classify.scikitlearn import SklearnClassifier\n",
        "from sklearn.naive_bayes import BernoulliNB\n",
        "from sklearn.naive_bayes import MultinomialNB"
      ],
      "metadata": {
        "id": "hdXKfxRPjtie"
      },
      "execution_count": 32,
      "outputs": []
    },
    {
      "cell_type": "code",
      "source": [
        "classifier = nltk.NaiveBayesClassifier.train(testing_set)\n",
        "print(\"classifier accuracy percent\", (nltk.classify.accuracy(classifier, testing_set))*100)\n",
        "classifier.show_most_informative_features(15)"
      ],
      "metadata": {
        "colab": {
          "base_uri": "https://localhost:8080/"
        },
        "id": "agLjTBDVuz3G",
        "outputId": "39839b58-52f5-4bb4-d080-569256da32c1"
      },
      "execution_count": 33,
      "outputs": [
        {
          "output_type": "stream",
          "name": "stdout",
          "text": [
            "classifier accuracy percent 76.08333333333334\n",
            "Most Informative Features\n",
            "             protagonist = True           positi : negati =      6.5 : 1.0\n",
            "                   endbr = True           positi : negati =      5.1 : 1.0\n",
            "                americas = True           positi : negati =      4.4 : 1.0\n",
            "                     rid = True           positi : negati =      4.4 : 1.0\n",
            "                 wealthy = True           positi : negati =      4.3 : 1.0\n",
            "              equivalent = True           positi : negati =      3.7 : 1.0\n",
            "                 forgive = True           negati : positi =      3.6 : 1.0\n",
            "               murderous = True           negati : positi =      3.6 : 1.0\n",
            "               desperate = True           positi : negati =      3.4 : 1.0\n",
            "               impressed = True           positi : negati =      3.4 : 1.0\n",
            "                 likable = True           positi : negati =      3.3 : 1.0\n",
            "                   quiet = True           negati : positi =      3.2 : 1.0\n",
            "                 popular = True           negati : positi =      3.2 : 1.0\n",
            "                    anna = True           positi : negati =      3.1 : 1.0\n",
            "                   enter = True           positi : negati =      3.1 : 1.0\n"
          ]
        }
      ]
    },
    {
      "cell_type": "code",
      "source": [
        "# train and test various classifiers using the training and testing sets\n",
        "MNB_clf = SklearnClassifier(MultinomialNB())\n",
        "mnb_cls = MNB_clf.train(training_set)\n",
        "print(\"MultinomialNB Classifier accuracy percent:\", (nltk.classify.accuracy(mnb_cls, testing_set)*100))\n"
      ],
      "metadata": {
        "colab": {
          "base_uri": "https://localhost:8080/"
        },
        "id": "wSxjlFSvgoAj",
        "outputId": "0433f8a8-ae57-4376-89aa-a38b3ef231a0"
      },
      "execution_count": 34,
      "outputs": [
        {
          "output_type": "stream",
          "name": "stdout",
          "text": [
            "MultinomialNB Classifier accuracy percent: 50.24999999999999\n"
          ]
        }
      ]
    },
    {
      "cell_type": "code",
      "source": [
        "\n",
        "# train and test various classifiers using the training and testing sets\n",
        "MNB_clf = SklearnClassifier(MultinomialNB())\n",
        "mnb_cls = MNB_clf.train(training_set)\n",
        "print(\"MultinomialNB Classifier accuracy percent:\", (nltk.classify.accuracy(mnb_cls, testing_set)*100))\n"
      ],
      "metadata": {
        "colab": {
          "base_uri": "https://localhost:8080/"
        },
        "id": "OGv9m9m_gvP8",
        "outputId": "4d235b4d-8273-4260-ed96-6d119db6a251"
      },
      "execution_count": 35,
      "outputs": [
        {
          "output_type": "stream",
          "name": "stdout",
          "text": [
            "MultinomialNB Classifier accuracy percent: 50.24999999999999\n"
          ]
        }
      ]
    },
    {
      "cell_type": "code",
      "source": [
        "MNB_clf= SklearnClassifier(BernoulliNB())\n",
        "bnb_cls =MNB_clf.train(training_set)\n",
        "print('Classifier accuracy percent:', (nltk.classify.accuracy(bnb_cls, testing_set))*100)"
      ],
      "metadata": {
        "colab": {
          "base_uri": "https://localhost:8080/"
        },
        "id": "q_VVoAPamX-y",
        "outputId": "0c48b152-e492-4496-e3dd-31caf5d39aa7"
      },
      "execution_count": 36,
      "outputs": [
        {
          "output_type": "stream",
          "name": "stdout",
          "text": [
            "Classifier accuracy percent: 51.583333333333336\n"
          ]
        }
      ]
    },
    {
      "cell_type": "code",
      "source": [
        "MNB_clf= SklearnClassifier(BernoulliNB())\n",
        "bnb_cls =MNB_clf.train(training_set)\n",
        "\n",
        "print('Classifier accuracy percent:', (nltk.classify.accuracy(bnb_cls, testing_set))*100)"
      ],
      "metadata": {
        "id": "BjVRmAFu6PyK",
        "colab": {
          "base_uri": "https://localhost:8080/"
        },
        "outputId": "e7275181-2305-4667-a5f6-66b27962538e"
      },
      "execution_count": 37,
      "outputs": [
        {
          "output_type": "stream",
          "name": "stdout",
          "text": [
            "Classifier accuracy percent: 51.583333333333336\n"
          ]
        }
      ]
    },
    {
      "cell_type": "code",
      "source": [
        "from sklearn.linear_model import LogisticRegression\n",
        "LogReg_clf= SklearnClassifier(LogisticRegression())\n",
        "log_cls =LogReg_clf.train (training_set)\n",
        "print(\"Classifier accuracy percent:\", (nltk.classify.accuracy (log_cls, testing_set))*188)"
      ],
      "metadata": {
        "colab": {
          "base_uri": "https://localhost:8080/"
        },
        "id": "Ee5FvH7JpqhA",
        "outputId": "cffac052-76f3-4b66-99db-8e030259ed7e"
      },
      "execution_count": 38,
      "outputs": [
        {
          "output_type": "stream",
          "name": "stdout",
          "text": [
            "Classifier accuracy percent: 93.84333333333333\n"
          ]
        }
      ]
    },
    {
      "cell_type": "code",
      "source": [
        "from sklearn.linear_model import SGDClassifier\n",
        "SGD_clf = SklearnClassifier (SGDClassifier())\n",
        "log_cls= SGD_clf.train(training_set)\n",
        "print(\"Classifier accuracy percent:\", (nltk.classify.accuracy (log_cls, testing_set))*180)\n"
      ],
      "metadata": {
        "colab": {
          "base_uri": "https://localhost:8080/"
        },
        "id": "ReEqVP8Hp5Oo",
        "outputId": "f66b90f5-7838-493c-9885-f1c79967fe91"
      },
      "execution_count": 39,
      "outputs": [
        {
          "output_type": "stream",
          "name": "stdout",
          "text": [
            "Classifier accuracy percent: 89.25\n"
          ]
        }
      ]
    },
    {
      "cell_type": "code",
      "source": [
        "from sklearn.svm import SVC\n",
        "SVC_clf=SklearnClassifier(SVC())\n",
        "svc_cls = SVC_clf.train(training_set)\n",
        "print(\"Classifier accuracy percent:\", (nltk.classify.accuracy (svc_cls, testing_set))*100)"
      ],
      "metadata": {
        "colab": {
          "base_uri": "https://localhost:8080/"
        },
        "id": "GeXjSfH-q-um",
        "outputId": "6b2032f2-5d51-43eb-ce9e-4c9c6218429a"
      },
      "execution_count": 40,
      "outputs": [
        {
          "output_type": "stream",
          "name": "stdout",
          "text": [
            "Classifier accuracy percent: 51.583333333333336\n"
          ]
        }
      ]
    },
    {
      "cell_type": "code",
      "source": [
        "# Function to preprocess input text and predict sentiment\n",
        "def predict_sentiment(input_text):\n",
        "    cleaned = re.sub(r'[^\\w\\s]', '', input_text.lower())\n",
        "    tokenized = word_tokenize(cleaned)\n",
        "    stopped = [w for w in tokenized if not w in stop_words]\n",
        "    positive = nltk.pos_tag(stopped)\n",
        "\n",
        "    input_features = {}\n",
        "    for w in positive:\n",
        "        if w[1][0] in allowed_word_types and w[0].lower() in word_features:\n",
        "            input_features[w[0].lower()] = True\n",
        "\n",
        "    sentiment = mnb_cls.classify(input_features)  # Use the mnb_cls classifier\n",
        "    return sentiment"
      ],
      "metadata": {
        "id": "-KSm92_fqCg3"
      },
      "execution_count": 43,
      "outputs": []
    },
    {
      "cell_type": "code",
      "source": [
        "# Example usage:\n",
        "user_input = input(\"Enter a movie review: \")\n",
        "result = predict_sentiment(user_input)\n",
        "print(\"Predicted sentiment:\", result)"
      ],
      "metadata": {
        "colab": {
          "base_uri": "https://localhost:8080/"
        },
        "id": "tN16HA9gqEBl",
        "outputId": "b39f471f-2dbb-491e-fb8b-fa9653e17d1c"
      },
      "execution_count": 44,
      "outputs": [
        {
          "output_type": "stream",
          "name": "stdout",
          "text": [
            "Enter a movie review: I thoroughly enjoyed watching this movie. The acting was fantastic, and the plot kept me engaged from start to finish.\n",
            "Predicted sentiment: positive\n"
          ]
        }
      ]
    }
  ]
}